{
 "cells": [
  {
   "cell_type": "markdown",
   "id": "fea9cbea",
   "metadata": {},
   "source": [
    "To understand the mechanisms of BFS, DFS, and Dijkstras algorithm and to implement them on a simplified Armenian map"
   ]
  },
  {
   "cell_type": "code",
   "execution_count": null,
   "id": "51248fc7",
   "metadata": {},
   "outputs": [],
   "source": [
    "graph = {\n",
    "    'Yerevan': ['Gyumri', 'Sevan'],\n",
    "    'Gyumri': ['Yerevan', 'Vanadzor'],\n",
    "    'Sevan': ['Yerevan', 'Dilizhan'],\n",
    "    'Vanadzor': ['Gyumri', 'Dilizhan'],\n",
    "    'Dilizhan': ['Sevan', 'Vanadzor']\n",
    "}"
   ]
  },
  {
   "cell_type": "markdown",
   "id": "da3d2f83",
   "metadata": {},
   "source": [
    "We will implement BFS to find the shortest path from Yerevan to Dilizhan"
   ]
  }
 ],
 "metadata": {
  "kernelspec": {
   "display_name": "Python 3",
   "language": "python",
   "name": "python3"
  },
  "language_info": {
   "name": "python",
   "version": "3.14.0"
  }
 },
 "nbformat": 4,
 "nbformat_minor": 5
}
