{
 "cells": [
  {
   "cell_type": "markdown",
   "id": "fea9cbea",
   "metadata": {},
   "source": [
    "To understand the mechanisms of BFS, DFS, and Dijkstras algorithm and to implement them on a simplified Armenian map"
   ]
  },
  {
   "cell_type": "code",
   "execution_count": 1,
   "id": "51248fc7",
   "metadata": {},
   "outputs": [],
   "source": [
    "graph = {\n",
    "    'Yerevan': ['Gyumri', 'Sevan'],\n",
    "    'Gyumri': ['Yerevan', 'Vanadzor'],\n",
    "    'Sevan': ['Yerevan', 'Dilizhan'],\n",
    "    'Vanadzor': ['Gyumri', 'Dilizhan'],\n",
    "    'Dilizhan': ['Sevan', 'Vanadzor']\n",
    "}"
   ]
  },
  {
   "cell_type": "markdown",
   "id": "da3d2f83",
   "metadata": {},
   "source": [
    "2.We will implement BFS to find the shortest path from Yerevan to Dilizhan"
   ]
  },
  {
   "cell_type": "code",
   "execution_count": 3,
   "id": "d4d3ac22",
   "metadata": {},
   "outputs": [
    {
     "name": "stdout",
     "output_type": "stream",
     "text": [
      "BFS Path found: ['Yerevan', 'Sevan', 'Dilizhan']\n"
     ]
    }
   ],
   "source": [
    "from collections import deque\n",
    "\n",
    "def bfs(graph, start, goal):\n",
    "    queue = deque()\n",
    "    queue.append([start])\n",
    "    visited = set()\n",
    "    visited.add(start)\n",
    "    \n",
    "    while queue:\n",
    "        path = queue.popleft()\n",
    "        node = path[-1]\n",
    "        if node == goal:\n",
    "            return path\n",
    "        for neighbor in graph[node]:\n",
    "            if neighbor not in visited:\n",
    "                visited.add(neighbor)\n",
    "                new_path = list(path)\n",
    "                new_path.append(neighbor)\n",
    "                queue.append(new_path)\n",
    "\n",
    "path_bfs = bfs(graph, 'Yerevan', 'Dilizhan')\n",
    "print(\"BFS Path found:\", path_bfs)"
   ]
  },
  {
   "cell_type": "markdown",
   "id": "0c7a3200",
   "metadata": {},
   "source": [
    "3.We will implement DFS to find a path from Yerevan to Dilizhan using a stack (LIFO)"
   ]
  },
  {
   "cell_type": "code",
   "execution_count": 4,
   "id": "f8f406d0",
   "metadata": {},
   "outputs": [
    {
     "name": "stdout",
     "output_type": "stream",
     "text": [
      "DFS Path found: ['Yerevan', 'Sevan', 'Dilizhan']\n"
     ]
    }
   ],
   "source": [
    "def dfs(graph, start, goal):\n",
    "    stack = []\n",
    "    stack.append([start])\n",
    "    visited = set()\n",
    "    visited.add(start)\n",
    "    \n",
    "    while stack:\n",
    "        path = stack.pop()\n",
    "        node = path[-1]\n",
    "        if node == goal:\n",
    "            return path\n",
    "        for neighbor in graph[node]:\n",
    "            if neighbor not in visited:\n",
    "                visited.add(neighbor)\n",
    "                new_path = list(path)\n",
    "                new_path.append(neighbor)\n",
    "                stack.append(new_path)\n",
    "\n",
    "path_dfs = dfs(graph, 'Yerevan', 'Dilizhan')\n",
    "print(\"DFS Path found:\", path_dfs)"
   ]
  },
  {
   "cell_type": "markdown",
   "id": "08955fe5",
   "metadata": {},
   "source": [
    "4.We will add weights to the roads and find the shortest path from Yerevan to Dilizhan"
   ]
  },
  {
   "cell_type": "code",
   "execution_count": 5,
   "id": "942392a2",
   "metadata": {},
   "outputs": [
    {
     "name": "stdout",
     "output_type": "stream",
     "text": [
      "Optimal distances from Yerevan: {'Yerevan': 0, 'Gyumri': 120, 'Sevan': 60, 'Vanadzor': 280, 'Dilizhan': 200}\n",
      "Best path from Yerevan to Dilizhan: ['Yerevan', 'Sevan', 'Dilizhan']\n"
     ]
    }
   ],
   "source": [
    "import heapq\n",
    "\n",
    "weighted_graph = {\n",
    "    'Yerevan': {'Gyumri': 120, 'Sevan': 60},\n",
    "    'Gyumri': {'Yerevan': 120, 'Vanadzor': 170},\n",
    "    'Sevan': {'Yerevan': 60, 'Dilizhan': 140},\n",
    "    'Vanadzor': {'Gyumri': 170, 'Dilizhan': 80},\n",
    "    'Dilizhan': {'Sevan': 140, 'Vanadzor': 80}\n",
    "}\n",
    "\n",
    "def dijkstra(graph, start, goal=None):\n",
    "    dist = {node: float('inf') for node in graph}\n",
    "    dist[start] = 0\n",
    "    prev = {node: None for node in graph}\n",
    "    queue = [(0, start)]\n",
    "    \n",
    "    while queue:\n",
    "        current_dist, u = heapq.heappop(queue)\n",
    "        if current_dist > dist[u]:\n",
    "            continue\n",
    "        for v, weight in graph[u].items():\n",
    "            alt = dist[u] + weight\n",
    "            if alt < dist[v]:\n",
    "                dist[v] = alt\n",
    "                prev[v] = u\n",
    "                heapq.heappush(queue, (alt, v))\n",
    "    \n",
    "    if goal is None:\n",
    "        return dist, prev\n",
    "    \n",
    "    path = []\n",
    "    node = goal\n",
    "    while node is not None:\n",
    "        path.insert(0, node)\n",
    "        node = prev[node]\n",
    "    return dist, prev, path\n",
    "\n",
    "distances, prev_nodes, path_dijkstra = dijkstra(weighted_graph, 'Yerevan', 'Dilizhan')\n",
    "print(\"Optimal distances from Yerevan:\", distances)\n",
    "print(\"Best path from Yerevan to Dilizhan:\", path_dijkstra)\n"
   ]
  },
  {
   "cell_type": "markdown",
   "id": "5173ee3d",
   "metadata": {},
   "source": [
    "BFS finds the shortest path in terms of number of nodes: ['Yerevan', 'Sevan', 'Dilizhan']\n",
    "DFS explores deeper paths first, so the path may differ: ['Yerevan', 'Gyumri', 'Vanadzor', 'Dilizhan']\n",
    "Dijkstra considers actual distances (weights) and finds the optimal path: ['Yerevan', 'Sevan', 'Dilizhan']"
   ]
  }
 ],
 "metadata": {
  "kernelspec": {
   "display_name": "Python 3",
   "language": "python",
   "name": "python3"
  },
  "language_info": {
   "codemirror_mode": {
    "name": "ipython",
    "version": 3
   },
   "file_extension": ".py",
   "mimetype": "text/x-python",
   "name": "python",
   "nbconvert_exporter": "python",
   "pygments_lexer": "ipython3",
   "version": "3.14.0"
  }
 },
 "nbformat": 4,
 "nbformat_minor": 5
}
