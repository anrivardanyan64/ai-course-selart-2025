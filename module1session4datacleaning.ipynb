{
 "cells": [
  {
   "cell_type": "code",
   "execution_count": 1,
   "id": "ffc861b2",
   "metadata": {},
   "outputs": [],
   "source": [
    "import pandas as pd\n",
    "import numpy as np"
   ]
  },
  {
   "cell_type": "code",
   "execution_count": 9,
   "id": "28cf36a1",
   "metadata": {},
   "outputs": [
    {
     "name": "stdout",
     "output_type": "stream",
     "text": [
      "   Car ID  Brand  Year  Engine Size Fuel Type Transmission  Mileage Condition  \\\n",
      "0       1  Tesla  2016          2.3    Petrol       Manual   114832       New   \n",
      "1       2    BMW  2018          4.4  Electric       Manual   143190      Used   \n",
      "2       3   Audi  2013          4.5  Electric       Manual   181601       New   \n",
      "3       4  Tesla  2011          4.1    Diesel    Automatic    68682       New   \n",
      "4       5   Ford  2009          2.6    Diesel       Manual   223009  Like New   \n",
      "5       6   Audi  2019          2.4    Diesel    Automatic   246553  Like New   \n",
      "6       7   Audi  2020          4.0  Electric    Automatic   135486      Used   \n",
      "7       8  Tesla  2017          5.3    Hybrid    Automatic    83030       New   \n",
      "8       9  Honda  2023          5.7  Electric       Manual   120360  Like New   \n",
      "9      10   Ford  2010          1.5  Electric    Automatic   135009  Like New   \n",
      "\n",
      "      Price     Model  \n",
      "0  26613.92   Model X  \n",
      "1  14679.61  5 Series  \n",
      "2  44402.61        A4  \n",
      "3  86374.33   Model Y  \n",
      "4  73577.10   Mustang  \n",
      "5  88969.76        Q7  \n",
      "6  63498.75        Q5  \n",
      "7  17381.19   Model Y  \n",
      "8  15905.62     Civic  \n",
      "9   9560.22  Explorer  \n",
      "<class 'pandas.core.frame.DataFrame'>\n",
      "RangeIndex: 2500 entries, 0 to 2499\n",
      "Data columns (total 10 columns):\n",
      " #   Column        Non-Null Count  Dtype  \n",
      "---  ------        --------------  -----  \n",
      " 0   Car ID        2500 non-null   int64  \n",
      " 1   Brand         2500 non-null   object \n",
      " 2   Year          2500 non-null   int64  \n",
      " 3   Engine Size   2500 non-null   float64\n",
      " 4   Fuel Type     2500 non-null   object \n",
      " 5   Transmission  2500 non-null   object \n",
      " 6   Mileage       2500 non-null   int64  \n",
      " 7   Condition     2500 non-null   object \n",
      " 8   Price         2500 non-null   float64\n",
      " 9   Model         2500 non-null   object \n",
      "dtypes: float64(2), int64(3), object(5)\n",
      "memory usage: 195.4+ KB\n",
      "None\n",
      "Car ID          0\n",
      "Brand           0\n",
      "Year            0\n",
      "Engine Size     0\n",
      "Fuel Type       0\n",
      "Transmission    0\n",
      "Mileage         0\n",
      "Condition       0\n",
      "Price           0\n",
      "Model           0\n",
      "dtype: int64\n",
      "           Car ID       Year  Engine Size        Mileage         Price\n",
      "count  2500.00000  2500.0000  2500.000000    2500.000000   2500.000000\n",
      "mean   1250.50000  2011.6268     3.465240  149749.844800  52638.022532\n",
      "std     721.83216     6.9917     1.432053   87919.952034  27295.833455\n",
      "min       1.00000  2000.0000     1.000000      15.000000   5011.270000\n",
      "25%     625.75000  2005.0000     2.200000   71831.500000  28908.485000\n",
      "50%    1250.50000  2012.0000     3.400000  149085.000000  53485.240000\n",
      "75%    1875.25000  2018.0000     4.700000  225990.500000  75838.532500\n",
      "max    2500.00000  2023.0000     6.000000  299967.000000  99982.590000\n"
     ]
    }
   ],
   "source": [
    "df = pd.read_csv(\"car_price_prediction_.csv\")\n",
    "\n",
    "print(df.head(10))\n",
    "print(df.info())\n",
    "print(df.isnull().sum())\n",
    "print(df.describe())\n"
   ]
  },
  {
   "cell_type": "markdown",
   "id": "1031d05d",
   "metadata": {},
   "source": [
    "I chose the topic of car price prediction because I love cars and am interested in their prices.\n",
    "https://www.kaggle.com/datasets/zafarali27/car-price-prediction?resource=download"
   ]
  },
  {
   "cell_type": "markdown",
   "id": "22ac3866",
   "metadata": {},
   "source": [
    "1. The 'Year' column has many wrong values.\n",
    "2. The 'Price' column is stored as an object/string instead of a number.\n",
    "\n",
    "Honestly, I didn’t see any mistakes, I was just writing and trying out the commands."
   ]
  },
  {
   "cell_type": "code",
   "execution_count": 11,
   "id": "19083b85",
   "metadata": {},
   "outputs": [],
   "source": [
    "df['Year'].fillna(df['Year'].median(), inplace=True)"
   ]
  },
  {
   "cell_type": "code",
   "execution_count": 12,
   "id": "1e4cc677",
   "metadata": {},
   "outputs": [],
   "source": [
    "df['Price'] = df['Price'].replace('[.]', '', regex=True).astype(float)\n"
   ]
  },
  {
   "cell_type": "code",
   "execution_count": 13,
   "id": "b5510fe2",
   "metadata": {},
   "outputs": [],
   "source": [
    "df.drop('Car ID', axis=1, inplace=True)"
   ]
  },
  {
   "cell_type": "code",
   "execution_count": 14,
   "id": "9d210f5f",
   "metadata": {},
   "outputs": [
    {
     "name": "stdout",
     "output_type": "stream",
     "text": [
      "<class 'pandas.core.frame.DataFrame'>\n",
      "RangeIndex: 2500 entries, 0 to 2499\n",
      "Data columns (total 9 columns):\n",
      " #   Column        Non-Null Count  Dtype  \n",
      "---  ------        --------------  -----  \n",
      " 0   Brand         2500 non-null   object \n",
      " 1   Year          2500 non-null   int64  \n",
      " 2   Engine Size   2500 non-null   float64\n",
      " 3   Fuel Type     2500 non-null   object \n",
      " 4   Transmission  2500 non-null   object \n",
      " 5   Mileage       2500 non-null   int64  \n",
      " 6   Condition     2500 non-null   object \n",
      " 7   Price         2500 non-null   float64\n",
      " 8   Model         2500 non-null   object \n",
      "dtypes: float64(2), int64(2), object(5)\n",
      "memory usage: 175.9+ KB\n",
      "None\n",
      "Brand           0\n",
      "Year            0\n",
      "Engine Size     0\n",
      "Fuel Type       0\n",
      "Transmission    0\n",
      "Mileage         0\n",
      "Condition       0\n",
      "Price           0\n",
      "Model           0\n",
      "dtype: int64\n"
     ]
    }
   ],
   "source": [
    "print(df.info())\n",
    "print(df.isnull().sum())"
   ]
  },
  {
   "cell_type": "markdown",
   "id": "bc0ad13d",
   "metadata": {},
   "source": [
    "After filling the missing values in 'Year', the column now has 0 nulls. \n",
    "After converting 'Price' to float, its dtype changed from object to float64.\n",
    "The 'Car ID' column was dropped because it was irrelevant."
   ]
  }
 ],
 "metadata": {
  "kernelspec": {
   "display_name": ".venv",
   "language": "python",
   "name": "python3"
  },
  "language_info": {
   "codemirror_mode": {
    "name": "ipython",
    "version": 3
   },
   "file_extension": ".py",
   "mimetype": "text/x-python",
   "name": "python",
   "nbconvert_exporter": "python",
   "pygments_lexer": "ipython3",
   "version": "3.14.0"
  }
 },
 "nbformat": 4,
 "nbformat_minor": 5
}
